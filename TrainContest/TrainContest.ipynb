{
 "cells": [
  {
   "metadata": {},
   "cell_type": "markdown",
   "source": [
    "# A. Генератор точек в круге\n",
    "\n",
    "Ограничение времени\t1 секунда\n",
    "Ограничение памяти\t64.0 Мб\n",
    "Ввод\tстандартный ввод или input.txt\n",
    "Вывод\tстандартный вывод или output.txt\n",
    "Петя написал два генератора точек в круге:\n",
    "\n",
    "```python\n",
    "def generate1():\n",
    "    a = uniform(0, 1)\n",
    "    b = uniform(0, 1)\n",
    "    return (a * cos(2 * pi * b), a * sin(2 * pi * b))\n",
    "\n",
    "def generate2():\n",
    "    while True:\n",
    "        x = uniform(-1, 1)\n",
    "        y = uniform(-1, 1)\n",
    "        if x ** 2 + y ** 2 > 1:\n",
    "            continue\n",
    "        return (x, y)\n",
    "```\n",
    "Даны 100 наборов по 1000 точек, каждый набор сгенерирован каким-то одним из этих двух алгоритмов. \n",
    "Необходимо определить для каждого набора, первый или второй алгоритм использовался для его генерации.\n",
    "\n",
    "Для того, чтобы получить ОК по этой задаче, надо предсказать правильный генератор хотя бы для 98 наборов.\n",
    "\n",
    "## Формат ввода\n",
    "Даны 100 строк. Каждая строка отвечает за свой набор точек.\n",
    "В каждой строке находится 2000 действительных чисел (−1 ≤ ai ≤ 1), разделённых пробелом. Точки идут подряд, то есть формат строки: x1 y1 x2 y2 ... x1000 y1000.\n",
    "\n",
    "## Формат вывода\n",
    "Нужно вывести 100 строк, в каждой из которой должно быть 1 число: 1 или 2, в зависимости от того, первым или вторым генератором был сгенерирован данный набор точек."
   ],
   "id": "a003d98ee4ac4414"
  },
  {
   "cell_type": "code",
   "id": "initial_id",
   "metadata": {
    "collapsed": true,
    "ExecuteTime": {
     "end_time": "2024-10-15T11:50:40.259587Z",
     "start_time": "2024-10-15T11:50:40.255551Z"
    }
   },
   "source": [
    "from math import pi, cos, sin\n",
    "from random import uniform\n",
    "\n",
    "def generate1():\n",
    "    a = uniform(0, 1)\n",
    "    b = uniform(0, 1)\n",
    "    return (a * cos(2 * pi * b), a * sin(2 * pi * b))\n",
    "\n",
    "def generate2():\n",
    "    while True:\n",
    "        x = uniform(-1, 1)\n",
    "        y = uniform(-1, 1)\n",
    "        if x ** 2 + y ** 2 > 1:\n",
    "            continue\n",
    "        return (x, y)\n",
    "    \n",
    "print(generate1())\n",
    "print(generate2())"
   ],
   "outputs": [
    {
     "name": "stdout",
     "output_type": "stream",
     "text": [
      "(-0.04437013314356629, 0.14176769048345134)\n",
      "(-0.46865573862355636, 0.6557441728609299)\n"
     ]
    }
   ],
   "execution_count": 7
  },
  {
   "metadata": {
    "ExecuteTime": {
     "end_time": "2024-10-15T11:50:36.348142Z",
     "start_time": "2024-10-15T11:50:36.346150Z"
    }
   },
   "cell_type": "code",
   "source": "",
   "id": "b1a6352541f093b8",
   "outputs": [],
   "execution_count": null
  },
  {
   "metadata": {},
   "cell_type": "code",
   "outputs": [],
   "execution_count": null,
   "source": "",
   "id": "722a385ece4a79f9"
  }
 ],
 "metadata": {
  "kernelspec": {
   "display_name": "Python 3",
   "language": "python",
   "name": "python3"
  },
  "language_info": {
   "codemirror_mode": {
    "name": "ipython",
    "version": 2
   },
   "file_extension": ".py",
   "mimetype": "text/x-python",
   "name": "python",
   "nbconvert_exporter": "python",
   "pygments_lexer": "ipython2",
   "version": "2.7.6"
  }
 },
 "nbformat": 4,
 "nbformat_minor": 5
}
